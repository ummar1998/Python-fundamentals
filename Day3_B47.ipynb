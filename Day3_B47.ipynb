{
 "cells": [
  {
   "cell_type": "code",
   "execution_count": null,
   "metadata": {},
   "outputs": [],
   "source": [
    "#type string method"
   ]
  },
  {
   "cell_type": "code",
   "execution_count": 17,
   "metadata": {},
   "outputs": [
    {
     "name": "stdout",
     "output_type": "stream",
     "text": [
      "<class 'str'>\n",
      "<class 'int'>\n"
     ]
    }
   ],
   "source": [
    "name = \"UMMAR\"\n",
    "print(type(name))\n",
    "age = 23\n",
    "print(type(age))\n"
   ]
  },
  {
   "cell_type": "code",
   "execution_count": 3,
   "metadata": {},
   "outputs": [
    {
     "name": "stdout",
     "output_type": "stream",
     "text": [
      "Ummar\n"
     ]
    }
   ],
   "source": [
    "print(name.title())"
   ]
  },
  {
   "cell_type": "code",
   "execution_count": 6,
   "metadata": {},
   "outputs": [
    {
     "name": "stdout",
     "output_type": "stream",
     "text": [
      "UMMAR\n"
     ]
    }
   ],
   "source": [
    "#to capitalise each letter\n",
    "name = \"uMmar\"\n",
    "print(name.upper())\n"
   ]
  },
  {
   "cell_type": "code",
   "execution_count": 7,
   "metadata": {},
   "outputs": [
    {
     "name": "stdout",
     "output_type": "stream",
     "text": [
      "farooq\n"
     ]
    }
   ],
   "source": [
    "#to make the letters lower case\n",
    "name = \"FAROOQ\"\n",
    "print(name.lower())"
   ]
  },
  {
   "cell_type": "code",
   "execution_count": 31,
   "metadata": {},
   "outputs": [
    {
     "name": "stdout",
     "output_type": "stream",
     "text": [
      "Hello Ummar Farooq\n"
     ]
    }
   ],
   "source": [
    "# f string\n",
    "first_name = 'ummar'\n",
    "last_name = 'farooq'\n",
    "full_name = f\"{first_name.title()} {last_name.title()}\"\n",
    "print(\"Hello \"+full_name)"
   ]
  },
  {
   "cell_type": "code",
   "execution_count": 43,
   "metadata": {},
   "outputs": [
    {
     "name": "stdout",
     "output_type": "stream",
     "text": [
      "My favorite programming language are:\n",
      "python\n",
      "java\n",
      "c\n",
      "c++\n",
      "jaavscript\n"
     ]
    }
   ],
   "source": [
    "#adding whitespaces new line delimeter\n",
    "print(\"My favorite programming language are:\\npython\\njava\\nc\\nc++\\njaavscript\")"
   ]
  },
  {
   "cell_type": "code",
   "execution_count": 44,
   "metadata": {},
   "outputs": [
    {
     "name": "stdout",
     "output_type": "stream",
     "text": [
      "My favorite programming language are:\n",
      "\tpython\n",
      "\tjava\n",
      "\tc\n",
      "\tc++\n",
      "\tjaavscript\n"
     ]
    }
   ],
   "source": [
    "#adding whitespaces tab delimeter\n",
    "print(\"My favorite programming language are:\\n\\tpython\\n\\tjava\\n\\tc\\n\\tc++\\n\\tjaavscript\")"
   ]
  },
  {
   "cell_type": "code",
   "execution_count": 45,
   "metadata": {},
   "outputs": [
    {
     "name": "stdout",
     "output_type": "stream",
     "text": [
      "My favorite programming language are:\tpython\tjava\tc\tc++\tjaavscript\n"
     ]
    }
   ],
   "source": [
    "#adding whitespaces tab delimeter\n",
    "print(\"My favorite programming language are:\\tpython\\tjava\\tc\\tc++\\tjaavscript\")"
   ]
  },
  {
   "cell_type": "code",
   "execution_count": null,
   "metadata": {},
   "outputs": [],
   "source": []
  }
 ],
 "metadata": {
  "kernelspec": {
   "display_name": "Python 3",
   "language": "python",
   "name": "python3"
  },
  "language_info": {
   "codemirror_mode": {
    "name": "ipython",
    "version": 3
   },
   "file_extension": ".py",
   "mimetype": "text/x-python",
   "name": "python",
   "nbconvert_exporter": "python",
   "pygments_lexer": "ipython3",
   "version": "3.7.1"
  }
 },
 "nbformat": 4,
 "nbformat_minor": 2
}
